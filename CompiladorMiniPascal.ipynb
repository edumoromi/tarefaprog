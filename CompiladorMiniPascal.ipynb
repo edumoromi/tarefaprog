{
  "nbformat": 4,
  "nbformat_minor": 0,
  "metadata": {
    "colab": {
      "name": "Untitled3.ipynb",
      "provenance": [],
      "authorship_tag": "ABX9TyNLNspPTtzcz0jQM6elzBdR",
      "include_colab_link": true
    },
    "kernelspec": {
      "name": "python3",
      "display_name": "Python 3"
    },
    "language_info": {
      "name": "python"
    }
  },
  "cells": [
    {
      "cell_type": "markdown",
      "metadata": {
        "id": "view-in-github",
        "colab_type": "text"
      },
      "source": [
        "<a href=\"https://colab.research.google.com/github/edumoromi/tarefaprog/blob/master/CompiladorMiniPascal.ipynb\" target=\"_parent\"><img src=\"https://colab.research.google.com/assets/colab-badge.svg\" alt=\"Open In Colab\"/></a>"
      ]
    },
    {
      "cell_type": "code",
      "metadata": {
        "colab": {
          "base_uri": "https://localhost:8080/"
        },
        "id": "pzaeDPlSPbXP",
        "outputId": "5f4ab5d7-3913-4a15-9680-b6c5ce2c2485"
      },
      "source": [
        "!pip install rply"
      ],
      "execution_count": 1,
      "outputs": [
        {
          "output_type": "stream",
          "text": [
            "Collecting rply\n",
            "  Downloading https://files.pythonhosted.org/packages/c0/7c/f66be9e75485ae6901ae77d8bdbc3c0e99ca748ab927b3e18205759bde09/rply-0.7.8-py2.py3-none-any.whl\n",
            "Requirement already satisfied: appdirs in /usr/local/lib/python3.7/dist-packages (from rply) (1.4.4)\n",
            "Installing collected packages: rply\n",
            "Successfully installed rply-0.7.8\n"
          ],
          "name": "stdout"
        }
      ]
    },
    {
      "cell_type": "code",
      "metadata": {
        "id": "DRkll-fadX7I"
      },
      "source": [
        "from rply import LexerGenerator\n",
        "\n",
        "lg = LexerGenerator()\n",
        "\n",
        "lg.add('VAR',r'var')\n",
        "lg.add('INT', r'integer')\n",
        "lg.add('CHAR', r'char')\n",
        "lg.add('BOOLEAN', r'boolean')\n",
        "lg.add('ARRAY', r'array')\n",
        "lg.add('OF', r'of')\n",
        "\n",
        "lg.add('EQUALS', r'=')\n",
        "\n",
        "lg.add('PROCEDURE', r'procedure')\n",
        "lg.add('FUNCTION', r'function')\n",
        "\n",
        "lg.add('BEGIN', r'begin')\n",
        "lg.add('END', r'end')\n",
        "\n",
        "lg.add('READ', r'read')\n",
        "lg.add('WRITE', r'write')\n",
        "\n",
        "\n",
        "\n",
        "\n",
        "\n",
        "lg.add('OPEN_BRACKETS', r'\\[')\n",
        "lg.add('CLOSE_BRACKETS', r'\\]')\n",
        "\n",
        "lg.ignore('\\s+')\n",
        "\n",
        "lexer = lg.build()"
      ],
      "execution_count": null,
      "outputs": []
    },
    {
      "cell_type": "code",
      "metadata": {
        "id": "-PVLokf1PaqR"
      },
      "source": [
        ""
      ],
      "execution_count": null,
      "outputs": []
    }
  ]
}